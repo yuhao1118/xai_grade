{
 "cells": [
  {
   "cell_type": "code",
   "execution_count": 25,
   "metadata": {},
   "outputs": [
    {
     "name": "stdout",
     "output_type": "stream",
     "text": [
      "/home/yuhao/grade_prediction\n"
     ]
    },
    {
     "data": {
      "text/plain": [
       "'/home/yuhao/grade_prediction'"
      ]
     },
     "execution_count": 25,
     "metadata": {},
     "output_type": "execute_result"
    }
   ],
   "source": [
    "%cd ~/grade_prediction/\n",
    "%pwd"
   ]
  },
  {
   "cell_type": "code",
   "execution_count": 26,
   "metadata": {},
   "outputs": [],
   "source": [
    "import numpy as np\n",
    "import pandas as pd"
   ]
  },
  {
   "cell_type": "markdown",
   "metadata": {},
   "source": [
    "# Initialise Model Manager"
   ]
  },
  {
   "cell_type": "code",
   "execution_count": 27,
   "metadata": {},
   "outputs": [
    {
     "name": "stdout",
     "output_type": "stream",
     "text": [
      "Epoch: 0, loss=0.574, train_accuracy=0.297, test_accuracy=0.190\n",
      "Epoch: 1, loss=0.591, train_accuracy=0.408, test_accuracy=0.291\n",
      "Epoch: 2, loss=0.567, train_accuracy=0.437, test_accuracy=0.354\n",
      "Epoch: 3, loss=0.547, train_accuracy=0.459, test_accuracy=0.354\n",
      "Epoch: 4, loss=0.535, train_accuracy=0.424, test_accuracy=0.278\n",
      "Epoch: 5, loss=0.520, train_accuracy=0.481, test_accuracy=0.380\n",
      "Epoch: 6, loss=0.507, train_accuracy=0.516, test_accuracy=0.367\n",
      "Epoch: 7, loss=0.583, train_accuracy=0.598, test_accuracy=0.418\n",
      "Epoch: 8, loss=0.473, train_accuracy=0.623, test_accuracy=0.443\n",
      "Epoch: 9, loss=0.529, train_accuracy=0.522, test_accuracy=0.418\n",
      "Epoch: 10, loss=0.458, train_accuracy=0.627, test_accuracy=0.519\n",
      "Epoch: 11, loss=0.451, train_accuracy=0.646, test_accuracy=0.481\n",
      "Epoch: 12, loss=0.456, train_accuracy=0.649, test_accuracy=0.456\n",
      "Epoch: 13, loss=0.435, train_accuracy=0.623, test_accuracy=0.532\n",
      "Epoch: 14, loss=0.439, train_accuracy=0.677, test_accuracy=0.532\n",
      "Epoch: 15, loss=0.422, train_accuracy=0.709, test_accuracy=0.570\n",
      "Epoch: 16, loss=0.493, train_accuracy=0.706, test_accuracy=0.544\n",
      "Epoch: 17, loss=0.473, train_accuracy=0.699, test_accuracy=0.608\n",
      "Epoch: 18, loss=0.436, train_accuracy=0.699, test_accuracy=0.582\n",
      "Epoch: 19, loss=0.438, train_accuracy=0.722, test_accuracy=0.620\n",
      "Epoch: 20, loss=0.407, train_accuracy=0.712, test_accuracy=0.620\n",
      "Epoch: 21, loss=0.394, train_accuracy=0.709, test_accuracy=0.633\n",
      "Epoch: 22, loss=0.386, train_accuracy=0.741, test_accuracy=0.671\n",
      "Epoch: 23, loss=0.420, train_accuracy=0.728, test_accuracy=0.646\n",
      "Epoch: 24, loss=0.425, train_accuracy=0.741, test_accuracy=0.671\n",
      "Epoch: 25, loss=0.374, train_accuracy=0.706, test_accuracy=0.646\n",
      "Epoch: 26, loss=0.367, train_accuracy=0.744, test_accuracy=0.696\n",
      "Epoch: 27, loss=0.409, train_accuracy=0.766, test_accuracy=0.671\n",
      "Epoch: 28, loss=0.355, train_accuracy=0.775, test_accuracy=0.671\n",
      "Epoch: 29, loss=0.382, train_accuracy=0.772, test_accuracy=0.684\n",
      "Epoch: 30, loss=0.401, train_accuracy=0.772, test_accuracy=0.696\n",
      "Epoch: 31, loss=0.403, train_accuracy=0.782, test_accuracy=0.709\n",
      "Epoch: 32, loss=0.406, train_accuracy=0.759, test_accuracy=0.722\n",
      "Epoch: 33, loss=0.317, train_accuracy=0.794, test_accuracy=0.709\n",
      "Epoch: 34, loss=0.378, train_accuracy=0.756, test_accuracy=0.684\n",
      "Epoch: 35, loss=0.321, train_accuracy=0.791, test_accuracy=0.734\n",
      "Epoch: 36, loss=0.346, train_accuracy=0.820, test_accuracy=0.734\n",
      "Epoch: 37, loss=0.403, train_accuracy=0.753, test_accuracy=0.633\n",
      "Epoch: 38, loss=0.338, train_accuracy=0.785, test_accuracy=0.747\n",
      "Epoch: 39, loss=0.352, train_accuracy=0.832, test_accuracy=0.759\n",
      "Epoch: 40, loss=0.281, train_accuracy=0.829, test_accuracy=0.759\n",
      "Epoch: 41, loss=0.302, train_accuracy=0.823, test_accuracy=0.734\n",
      "Epoch: 42, loss=0.316, train_accuracy=0.826, test_accuracy=0.734\n",
      "Epoch: 43, loss=0.287, train_accuracy=0.835, test_accuracy=0.747\n",
      "Epoch: 44, loss=0.360, train_accuracy=0.826, test_accuracy=0.734\n",
      "Epoch: 45, loss=0.330, train_accuracy=0.816, test_accuracy=0.734\n",
      "Epoch: 46, loss=0.349, train_accuracy=0.816, test_accuracy=0.734\n",
      "Epoch: 47, loss=0.232, train_accuracy=0.832, test_accuracy=0.772\n",
      "Epoch: 48, loss=0.327, train_accuracy=0.823, test_accuracy=0.734\n",
      "Epoch: 49, loss=0.313, train_accuracy=0.823, test_accuracy=0.759\n",
      "Epoch: 50, loss=0.277, train_accuracy=0.845, test_accuracy=0.709\n",
      "Epoch: 51, loss=0.314, train_accuracy=0.845, test_accuracy=0.759\n",
      "Epoch: 52, loss=0.331, train_accuracy=0.823, test_accuracy=0.772\n",
      "Epoch: 53, loss=0.317, train_accuracy=0.845, test_accuracy=0.734\n",
      "Epoch: 54, loss=0.360, train_accuracy=0.851, test_accuracy=0.734\n",
      "Epoch: 55, loss=0.309, train_accuracy=0.851, test_accuracy=0.772\n",
      "Epoch: 56, loss=0.352, train_accuracy=0.845, test_accuracy=0.722\n",
      "Epoch: 57, loss=0.271, train_accuracy=0.839, test_accuracy=0.709\n",
      "Epoch: 58, loss=0.316, train_accuracy=0.861, test_accuracy=0.785\n",
      "Epoch: 59, loss=0.310, train_accuracy=0.867, test_accuracy=0.747\n",
      "Epoch: 60, loss=0.325, train_accuracy=0.877, test_accuracy=0.747\n",
      "Epoch: 61, loss=0.283, train_accuracy=0.861, test_accuracy=0.759\n",
      "Epoch: 62, loss=0.278, train_accuracy=0.851, test_accuracy=0.759\n",
      "Epoch: 63, loss=0.343, train_accuracy=0.848, test_accuracy=0.772\n",
      "Epoch: 64, loss=0.276, train_accuracy=0.858, test_accuracy=0.759\n",
      "Epoch: 65, loss=0.315, train_accuracy=0.867, test_accuracy=0.734\n",
      "Epoch: 66, loss=0.325, train_accuracy=0.873, test_accuracy=0.747\n",
      "Epoch: 67, loss=0.319, train_accuracy=0.873, test_accuracy=0.772\n",
      "Epoch: 68, loss=0.301, train_accuracy=0.870, test_accuracy=0.772\n",
      "Epoch: 69, loss=0.286, train_accuracy=0.858, test_accuracy=0.747\n",
      "Epoch: 70, loss=0.312, train_accuracy=0.883, test_accuracy=0.734\n",
      "Epoch: 71, loss=0.374, train_accuracy=0.873, test_accuracy=0.759\n",
      "Epoch: 72, loss=0.292, train_accuracy=0.870, test_accuracy=0.759\n",
      "Epoch: 73, loss=0.262, train_accuracy=0.877, test_accuracy=0.759\n",
      "Epoch: 74, loss=0.252, train_accuracy=0.886, test_accuracy=0.747\n",
      "Epoch: 75, loss=0.330, train_accuracy=0.889, test_accuracy=0.747\n",
      "Epoch: 76, loss=0.187, train_accuracy=0.877, test_accuracy=0.759\n",
      "Epoch: 77, loss=0.277, train_accuracy=0.896, test_accuracy=0.747\n",
      "Epoch: 78, loss=0.325, train_accuracy=0.886, test_accuracy=0.759\n",
      "Epoch: 79, loss=0.296, train_accuracy=0.896, test_accuracy=0.772\n"
     ]
    }
   ],
   "source": [
    "from ml.dataset import load_student_grade_dataset\n",
    "from ml.model import PytorchModelManager\n",
    "\n",
    "dataset = load_student_grade_dataset()\n",
    "model_manager = PytorchModelManager(dataset)\n",
    "\n",
    "model_manager.train(epoch=80)"
   ]
  },
  {
   "cell_type": "code",
   "execution_count": 28,
   "metadata": {},
   "outputs": [
    {
     "data": {
      "text/plain": [
       "school              GP\n",
       "sex                  F\n",
       "age                 17\n",
       "address              R\n",
       "Mjob           at_home\n",
       "Fjob          services\n",
       "guardian        father\n",
       "traveltime           1\n",
       "studytime            3\n",
       "paid               yes\n",
       "nursery             no\n",
       "internet           yes\n",
       "absences             0\n",
       "G1                  11\n",
       "G2                  11\n",
       "Name: 318, dtype: object"
      ]
     },
     "execution_count": 28,
     "metadata": {},
     "output_type": "execute_result"
    }
   ],
   "source": [
    "x_test = dataset.get_test_X(preprocess=False).iloc[1]\n",
    "x_test"
   ]
  },
  {
   "cell_type": "code",
   "execution_count": 29,
   "metadata": {},
   "outputs": [
    {
     "data": {
      "text/plain": [
       "(  school sex   age address     Mjob      Fjob guardian  traveltime  studytime  \\\n",
       " 0     GP   F  17.0       R  at_home  services   father         1.0        3.0   \n",
       " \n",
       "   paid nursery internet  absences    G1    G2 G3 G3_pred  \n",
       " 0  yes      no      yes       0.0  11.0  11.0  D       B  ,\n",
       " array([[0.00084797, 0.18796104, 0.5667963 , 0.03899765]], dtype=float32))"
      ]
     },
     "execution_count": 29,
     "metadata": {},
     "output_type": "execute_result"
    }
   ],
   "source": [
    "model_manager.report(x=[x_test])"
   ]
  },
  {
   "cell_type": "code",
   "execution_count": 6,
   "metadata": {},
   "outputs": [],
   "source": [
    "data_df = dataset.data\n",
    "features = dataset.features\n",
    "res = []\n",
    "\n",
    "for feature in features:\n",
    "    if feature in dataset.numerical_features:\n",
    "        feat_min = data_df[feature].min()\n",
    "        feat_max = data_df[feature].max()\n",
    "\n",
    "        feat_bins = 4\n",
    "        labels = list(range(feat_min, feat_max + 1, int((feat_max + 1 - feat_min) / feat_bins)))\n",
    "        if feat_max not in labels:\n",
    "            labels.append(feat_max)\n",
    "        \n",
    "        feat_obj = {\n",
    "          'name': feature.upper(),\n",
    "          'type': 'numerical',\n",
    "          'min': feat_min,\n",
    "          'max': feat_max,\n",
    "          'classes': labels,\n",
    "          'values': data_df[feature].value_counts(bins = labels).tolist()\n",
    "        }\n",
    "\n",
    "    elif feature in dataset.categorical_features:\n",
    "        category_value_count = data_df[feature].value_counts()\n",
    "        feat_obj = {\n",
    "          'name': feature.upper(),\n",
    "          'type': 'categorical',\n",
    "          'classes': category_value_count.index.tolist(),\n",
    "          'values': category_value_count.values.tolist()\n",
    "        }\n",
    "    res.append(feat_obj)"
   ]
  },
  {
   "cell_type": "code",
   "execution_count": 7,
   "metadata": {},
   "outputs": [
    {
     "data": {
      "text/plain": [
       "[{'name': 'SCHOOL',\n",
       "  'type': 'categorical',\n",
       "  'classes': ['GP', 'MS'],\n",
       "  'values': [349, 46]},\n",
       " {'name': 'SEX',\n",
       "  'type': 'categorical',\n",
       "  'classes': ['F', 'M'],\n",
       "  'values': [208, 187]},\n",
       " {'name': 'AGE',\n",
       "  'type': 'numerical',\n",
       "  'min': 15,\n",
       "  'max': 22,\n",
       "  'classes': [15, 17, 19, 21, 22],\n",
       "  'values': [284, 106, 4, 1]},\n",
       " {'name': 'ADDRESS',\n",
       "  'type': 'categorical',\n",
       "  'classes': ['U', 'R'],\n",
       "  'values': [307, 88]},\n",
       " {'name': 'MJOB',\n",
       "  'type': 'categorical',\n",
       "  'classes': ['other', 'services', 'at_home', 'teacher', 'health'],\n",
       "  'values': [141, 103, 59, 58, 34]},\n",
       " {'name': 'FJOB',\n",
       "  'type': 'categorical',\n",
       "  'classes': ['other', 'services', 'teacher', 'at_home', 'health'],\n",
       "  'values': [217, 111, 29, 20, 18]},\n",
       " {'name': 'GUARDIAN',\n",
       "  'type': 'categorical',\n",
       "  'classes': ['mother', 'father', 'other'],\n",
       "  'values': [273, 90, 32]},\n",
       " {'name': 'TRAVELTIME',\n",
       "  'type': 'numerical',\n",
       "  'min': 1,\n",
       "  'max': 4,\n",
       "  'classes': [1, 2, 3, 4],\n",
       "  'values': [364, 23, 8]},\n",
       " {'name': 'STUDYTIME',\n",
       "  'type': 'numerical',\n",
       "  'min': 1,\n",
       "  'max': 4,\n",
       "  'classes': [1, 2, 3, 4],\n",
       "  'values': [303, 65, 27]},\n",
       " {'name': 'PAID',\n",
       "  'type': 'categorical',\n",
       "  'classes': ['no', 'yes'],\n",
       "  'values': [214, 181]},\n",
       " {'name': 'NURSERY',\n",
       "  'type': 'categorical',\n",
       "  'classes': ['yes', 'no'],\n",
       "  'values': [314, 81]},\n",
       " {'name': 'INTERNET',\n",
       "  'type': 'categorical',\n",
       "  'classes': ['yes', 'no'],\n",
       "  'values': [329, 66]},\n",
       " {'name': 'ABSENCES',\n",
       "  'type': 'numerical',\n",
       "  'min': 0,\n",
       "  'max': 75,\n",
       "  'classes': [0, 19, 38, 57, 75],\n",
       "  'values': [376, 15, 3, 1]},\n",
       " {'name': 'G1',\n",
       "  'type': 'numerical',\n",
       "  'min': 3,\n",
       "  'max': 19,\n",
       "  'classes': [3, 7, 11, 15, 19],\n",
       "  'values': [162, 122, 70, 41]},\n",
       " {'name': 'G2',\n",
       "  'type': 'numerical',\n",
       "  'min': 0,\n",
       "  'max': 19,\n",
       "  'classes': [0, 5, 10, 15, 19],\n",
       "  'values': [170, 163, 33, 29]}]"
      ]
     },
     "execution_count": 7,
     "metadata": {},
     "output_type": "execute_result"
    }
   ],
   "source": [
    "res"
   ]
  },
  {
   "cell_type": "code",
   "execution_count": 51,
   "metadata": {},
   "outputs": [
    {
     "data": {
      "text/plain": [
       "[284, 106, 4, 1]"
      ]
     },
     "execution_count": 51,
     "metadata": {},
     "output_type": "execute_result"
    }
   ],
   "source": [
    "data_df = dataset.data\n",
    "feature = 'age'\n",
    "feat_min = data_df[feature].min()\n",
    "feat_max = data_df[feature].max()\n",
    "\n",
    "feat_bins = 4\n",
    "labels = list(range(feat_min, feat_max + 1, int((feat_max + 1 - feat_min) / feat_bins)))\n",
    "if feat_max not in labels:\n",
    "    labels.append(feat_max)\n",
    "data_df[feature].value_counts(bins = labels).tolist()"
   ]
  },
  {
   "cell_type": "code",
   "execution_count": 48,
   "metadata": {},
   "outputs": [
    {
     "data": {
      "text/plain": [
       "[15, 17, 19, 21]"
      ]
     },
     "execution_count": 48,
     "metadata": {},
     "output_type": "execute_result"
    }
   ],
   "source": [
    "list(range(feat_min, feat_max + 1, int((feat_max + 1 - feat_min) / feat_bins)))"
   ]
  },
  {
   "cell_type": "code",
   "execution_count": 33,
   "metadata": {},
   "outputs": [
    {
     "data": {
      "text/plain": [
       "count    395.000000\n",
       "mean      16.696203\n",
       "std        1.276043\n",
       "min       15.000000\n",
       "25%       16.000000\n",
       "50%       17.000000\n",
       "75%       18.000000\n",
       "max       22.000000\n",
       "Name: age, dtype: float64"
      ]
     },
     "execution_count": 33,
     "metadata": {},
     "output_type": "execute_result"
    }
   ],
   "source": [
    "dataset._data['age'].describe()"
   ]
  },
  {
   "cell_type": "code",
   "execution_count": 20,
   "metadata": {},
   "outputs": [
    {
     "data": {
      "text/plain": [
       "'G3'"
      ]
     },
     "execution_count": 20,
     "metadata": {},
     "output_type": "execute_result"
    }
   ],
   "source": [
    "dataset.target"
   ]
  },
  {
   "cell_type": "code",
   "execution_count": 11,
   "metadata": {},
   "outputs": [
    {
     "data": {
      "text/plain": [
       "['G3_D', 'G3_C', 'G3_A', 'G3_B']"
      ]
     },
     "execution_count": 11,
     "metadata": {},
     "output_type": "execute_result"
    }
   ],
   "source": [
    "np.array(dataset.dummy_target)"
   ]
  },
  {
   "cell_type": "code",
   "execution_count": 19,
   "metadata": {},
   "outputs": [
    {
     "data": {
      "text/plain": [
       "array([0, 0, 1, 0])"
      ]
     },
     "execution_count": 19,
     "metadata": {},
     "output_type": "execute_result"
    }
   ],
   "source": [
    "(np.array(dataset.dummy_target) == \"G3_A\") * 1"
   ]
  },
  {
   "cell_type": "markdown",
   "metadata": {},
   "source": [
    "# Initialise Engine"
   ]
  },
  {
   "cell_type": "code",
   "execution_count": 30,
   "metadata": {},
   "outputs": [],
   "source": [
    "from ml.cf_engine.engine import CFEnginePytorch\n",
    "engine = CFEnginePytorch(dataset, model_manager)"
   ]
  },
  {
   "cell_type": "code",
   "execution_count": 31,
   "metadata": {},
   "outputs": [
    {
     "data": {
      "text/plain": [
       "school             GP\n",
       "sex                 F\n",
       "age                17\n",
       "address             U\n",
       "Mjob          at_home\n",
       "Fjob            other\n",
       "guardian       father\n",
       "traveltime          1\n",
       "studytime           2\n",
       "paid               no\n",
       "nursery            no\n",
       "internet          yes\n",
       "absences            4\n",
       "G1                  5\n",
       "G2                  5\n",
       "G3                  D\n",
       "Name: 1, dtype: object"
      ]
     },
     "execution_count": 31,
     "metadata": {},
     "output_type": "execute_result"
    }
   ],
   "source": [
    "query_instance = dataset._data.iloc[1]\n",
    "query_instance"
   ]
  },
  {
   "cell_type": "code",
   "execution_count": 32,
   "metadata": {},
   "outputs": [
    {
     "data": {
      "text/plain": [
       "{'changeable_attr': ['Mjob',\n",
       "  'Fjob',\n",
       "  'guardian',\n",
       "  'traveltime',\n",
       "  'studytime',\n",
       "  'paid',\n",
       "  'nursery',\n",
       "  'internet',\n",
       "  'absences',\n",
       "  'G1',\n",
       "  'G2'],\n",
       " 'cf_range': {'school': {'name': 'school', 'categories': ['GP', 'MS']},\n",
       "  'sex': {'name': 'sex', 'categories': ['F', 'M']},\n",
       "  'age': {'name': 'age', 'extent': [8, 30], 'min': 8, 'max': 30},\n",
       "  'address': {'name': 'address', 'categories': ['U', 'R']},\n",
       "  'Mjob': {'name': 'Mjob',\n",
       "   'categories': ['at_home', 'health', 'services', 'teacher', 'other']},\n",
       "  'Fjob': {'name': 'Fjob',\n",
       "   'categories': ['at_home', 'health', 'services', 'teacher', 'other']},\n",
       "  'guardian': {'name': 'guardian',\n",
       "   'categories': ['mother', 'father', 'other']},\n",
       "  'traveltime': {'name': 'traveltime', 'extent': [0, 4], 'min': 0, 'max': 4},\n",
       "  'studytime': {'name': 'studytime', 'extent': [0, 0.8], 'min': 0, 'max': 0.8},\n",
       "  'paid': {'name': 'paid', 'categories': ['yes', 'no']},\n",
       "  'nursery': {'name': 'nursery', 'categories': ['yes', 'no']},\n",
       "  'internet': {'name': 'internet', 'categories': ['yes', 'no']},\n",
       "  'absences': {'name': 'absences', 'extent': [0, 0], 'min': 0, 'max': 0},\n",
       "  'G1': {'name': 'G1', 'extent': [0, 20], 'min': 0, 'max': 20},\n",
       "  'G2': {'name': 'G2', 'extent': [0, 20], 'min': 0, 'max': 20}},\n",
       " 'num': 12,\n",
       " 'k': 9,\n",
       " 'desired_class': [[0, 0, 0, 1],\n",
       "  [0, 0, 0, 1],\n",
       "  [0, 0, 0, 1],\n",
       "  [0, 0, 0, 1],\n",
       "  [0, 0, 0, 1],\n",
       "  [0, 0, 0, 1],\n",
       "  [0, 0, 0, 1],\n",
       "  [0, 0, 0, 1],\n",
       "  [0, 0, 0, 1],\n",
       "  [0, 0, 0, 1],\n",
       "  [0, 0, 0, 1],\n",
       "  [0, 0, 0, 1]]}"
      ]
     },
     "execution_count": 32,
     "metadata": {},
     "output_type": "execute_result"
    }
   ],
   "source": [
    "import json\n",
    "setting = json.loads(\"{\\\"changeable_attr\\\":[\\\"Mjob\\\",\\\"Fjob\\\",\\\"guardian\\\",\\\"traveltime\\\",\\\"studytime\\\",\\\"paid\\\",\\\"nursery\\\",\\\"internet\\\",\\\"absences\\\",\\\"G1\\\",\\\"G2\\\"],\\\"cf_range\\\":{\\\"school\\\":{\\\"name\\\":\\\"school\\\",\\\"categories\\\":[\\\"GP\\\",\\\"MS\\\"]},\\\"sex\\\":{\\\"name\\\":\\\"sex\\\",\\\"categories\\\":[\\\"F\\\",\\\"M\\\"]},\\\"age\\\":{\\\"name\\\":\\\"age\\\",\\\"extent\\\":[8,30],\\\"min\\\":8,\\\"max\\\":30},\\\"address\\\":{\\\"name\\\":\\\"address\\\",\\\"categories\\\":[\\\"U\\\",\\\"R\\\"]},\\\"Mjob\\\":{\\\"name\\\":\\\"Mjob\\\",\\\"categories\\\":[\\\"at_home\\\",\\\"health\\\",\\\"services\\\",\\\"teacher\\\",\\\"other\\\"]},\\\"Fjob\\\":{\\\"name\\\":\\\"Fjob\\\",\\\"categories\\\":[\\\"at_home\\\",\\\"health\\\",\\\"services\\\",\\\"teacher\\\",\\\"other\\\"]},\\\"guardian\\\":{\\\"name\\\":\\\"guardian\\\",\\\"categories\\\":[\\\"mother\\\",\\\"father\\\",\\\"other\\\"]},\\\"traveltime\\\":{\\\"name\\\":\\\"traveltime\\\",\\\"extent\\\":[0,4],\\\"min\\\":0,\\\"max\\\":4},\\\"studytime\\\":{\\\"name\\\":\\\"studytime\\\",\\\"extent\\\":[0,0.8],\\\"min\\\":0,\\\"max\\\":0.8},\\\"paid\\\":{\\\"name\\\":\\\"paid\\\",\\\"categories\\\":[\\\"yes\\\",\\\"no\\\"]},\\\"nursery\\\":{\\\"name\\\":\\\"nursery\\\",\\\"categories\\\":[\\\"yes\\\",\\\"no\\\"]},\\\"internet\\\":{\\\"name\\\":\\\"internet\\\",\\\"categories\\\":[\\\"yes\\\",\\\"no\\\"]},\\\"absences\\\":{\\\"name\\\":\\\"absences\\\",\\\"extent\\\":[0,0],\\\"min\\\":0,\\\"max\\\":0},\\\"G1\\\":{\\\"name\\\":\\\"G1\\\",\\\"extent\\\":[0,20],\\\"min\\\":0,\\\"max\\\":20},\\\"G2\\\":{\\\"name\\\":\\\"G2\\\",\\\"extent\\\":[0,20],\\\"min\\\":0,\\\"max\\\":20}},\\\"num\\\":12,\\\"k\\\":9,\\\"desired_class\\\":[[0,0,0,1],[0,0,0,1],[0,0,0,1],[0,0,0,1],[0,0,0,1],[0,0,0,1],[0,0,0,1],[0,0,0,1],[0,0,0,1],[0,0,0,1],[0,0,0,1],[0,0,0,1]]}\")\n",
    "setting"
   ]
  },
  {
   "cell_type": "code",
   "execution_count": 33,
   "metadata": {},
   "outputs": [
    {
     "ename": "TypeError",
     "evalue": "tuple indices must be integers or slices, not str",
     "output_type": "error",
     "traceback": [
      "\u001b[0;31m---------------------------------------------------------------------------\u001b[0m",
      "\u001b[0;31mTypeError\u001b[0m                                 Traceback (most recent call last)",
      "\u001b[0;32m<ipython-input-33-b4e8a831805d>\u001b[0m in \u001b[0;36m<module>\u001b[0;34m\u001b[0m\n\u001b[0;32m----> 1\u001b[0;31m \u001b[0mres\u001b[0m \u001b[0;34m=\u001b[0m \u001b[0mengine\u001b[0m\u001b[0;34m.\u001b[0m\u001b[0mgenerate_counterfactual_examples\u001b[0m\u001b[0;34m(\u001b[0m\u001b[0;34m[\u001b[0m\u001b[0mquery_instance\u001b[0m\u001b[0;34m]\u001b[0m\u001b[0;34m,\u001b[0m \u001b[0msetting\u001b[0m\u001b[0;34m=\u001b[0m\u001b[0msetting\u001b[0m\u001b[0;34m)\u001b[0m\u001b[0;34m.\u001b[0m\u001b[0mvalid\u001b[0m\u001b[0;34m\u001b[0m\u001b[0;34m\u001b[0m\u001b[0m\n\u001b[0m\u001b[1;32m      2\u001b[0m \u001b[0mres\u001b[0m\u001b[0;34m.\u001b[0m\u001b[0mvalues\u001b[0m\u001b[0;34m.\u001b[0m\u001b[0mtolist\u001b[0m\u001b[0;34m(\u001b[0m\u001b[0;34m)\u001b[0m\u001b[0;34m\u001b[0m\u001b[0;34m\u001b[0m\u001b[0m\n",
      "\u001b[0;32m~/grade_prediction/ml/cf_engine/engine.py\u001b[0m in \u001b[0;36mgenerate_counterfactual_examples\u001b[0;34m(self, X, setting, preprocess, verbose)\u001b[0m\n\u001b[1;32m    161\u001b[0m \u001b[0;34m\u001b[0m\u001b[0m\n\u001b[1;32m    162\u001b[0m             \u001b[0;32mif\u001b[0m \u001b[0mverbose\u001b[0m\u001b[0;34m:\u001b[0m\u001b[0;34m\u001b[0m\u001b[0;34m\u001b[0m\u001b[0m\n\u001b[0;32m--> 163\u001b[0;31m                 \u001b[0mprint\u001b[0m\u001b[0;34m(\u001b[0m\u001b[0;34m\"report\"\u001b[0m\u001b[0;34m,\u001b[0m \u001b[0mreport\u001b[0m\u001b[0;34m,\u001b[0m \u001b[0mself\u001b[0m\u001b[0;34m.\u001b[0m\u001b[0m_target\u001b[0m\u001b[0;34m,\u001b[0m \u001b[0mself\u001b[0m\u001b[0;34m.\u001b[0m\u001b[0m_prediction\u001b[0m\u001b[0;34m)\u001b[0m\u001b[0;34m\u001b[0m\u001b[0;34m\u001b[0m\u001b[0m\n\u001b[0m\u001b[1;32m    164\u001b[0m                 \u001b[0;31m# valid_rate = (report[self._target] == report[self._prediction]).sum() / len(report)\u001b[0m\u001b[0;34m\u001b[0m\u001b[0;34m\u001b[0m\u001b[0;34m\u001b[0m\u001b[0m\n\u001b[1;32m    165\u001b[0m                 \u001b[0;31m# print(\"[{}/{}]  Epoch-{}, time cost: {:.3f}s, loss: {:.3f}, iterations: {}, \"\u001b[0m\u001b[0;34m\u001b[0m\u001b[0;34m\u001b[0m\u001b[0;34m\u001b[0m\u001b[0m\n",
      "\u001b[0;31mTypeError\u001b[0m: tuple indices must be integers or slices, not str"
     ]
    }
   ],
   "source": [
    "res = engine.generate_counterfactual_examples([query_instance], setting=setting).valid\n",
    "res.values.tolist()"
   ]
  },
  {
   "cell_type": "code",
   "execution_count": 7,
   "metadata": {},
   "outputs": [
    {
     "data": {
      "text/html": [
       "<div>\n",
       "<style scoped>\n",
       "    .dataframe tbody tr th:only-of-type {\n",
       "        vertical-align: middle;\n",
       "    }\n",
       "\n",
       "    .dataframe tbody tr th {\n",
       "        vertical-align: top;\n",
       "    }\n",
       "\n",
       "    .dataframe thead th {\n",
       "        text-align: right;\n",
       "    }\n",
       "</style>\n",
       "<table border=\"1\" class=\"dataframe\">\n",
       "  <thead>\n",
       "    <tr style=\"text-align: right;\">\n",
       "      <th></th>\n",
       "      <th>school</th>\n",
       "      <th>sex</th>\n",
       "      <th>age</th>\n",
       "      <th>address</th>\n",
       "      <th>famsize</th>\n",
       "      <th>Pstatus</th>\n",
       "      <th>Medu</th>\n",
       "      <th>Fedu</th>\n",
       "      <th>Mjob</th>\n",
       "      <th>Fjob</th>\n",
       "      <th>...</th>\n",
       "      <th>freetime</th>\n",
       "      <th>goout</th>\n",
       "      <th>Dalc</th>\n",
       "      <th>Walc</th>\n",
       "      <th>health</th>\n",
       "      <th>absences</th>\n",
       "      <th>G1</th>\n",
       "      <th>G2</th>\n",
       "      <th>G3</th>\n",
       "      <th>G3_pred</th>\n",
       "    </tr>\n",
       "  </thead>\n",
       "  <tbody>\n",
       "    <tr>\n",
       "      <th>0</th>\n",
       "      <td>GP</td>\n",
       "      <td>F</td>\n",
       "      <td>17.0</td>\n",
       "      <td>U</td>\n",
       "      <td>GT3</td>\n",
       "      <td>T</td>\n",
       "      <td>1.0</td>\n",
       "      <td>1.0</td>\n",
       "      <td>at_home</td>\n",
       "      <td>other</td>\n",
       "      <td>...</td>\n",
       "      <td>3.0</td>\n",
       "      <td>3.0</td>\n",
       "      <td>1.0</td>\n",
       "      <td>1.0</td>\n",
       "      <td>3.0</td>\n",
       "      <td>23.0</td>\n",
       "      <td>9.0</td>\n",
       "      <td>13.0</td>\n",
       "      <td>B</td>\n",
       "      <td>B</td>\n",
       "    </tr>\n",
       "    <tr>\n",
       "      <th>1</th>\n",
       "      <td>GP</td>\n",
       "      <td>F</td>\n",
       "      <td>17.0</td>\n",
       "      <td>U</td>\n",
       "      <td>GT3</td>\n",
       "      <td>T</td>\n",
       "      <td>1.0</td>\n",
       "      <td>1.0</td>\n",
       "      <td>at_home</td>\n",
       "      <td>other</td>\n",
       "      <td>...</td>\n",
       "      <td>3.0</td>\n",
       "      <td>3.0</td>\n",
       "      <td>1.0</td>\n",
       "      <td>1.0</td>\n",
       "      <td>3.0</td>\n",
       "      <td>20.0</td>\n",
       "      <td>14.0</td>\n",
       "      <td>6.0</td>\n",
       "      <td>B</td>\n",
       "      <td>B</td>\n",
       "    </tr>\n",
       "    <tr>\n",
       "      <th>3</th>\n",
       "      <td>GP</td>\n",
       "      <td>F</td>\n",
       "      <td>17.0</td>\n",
       "      <td>U</td>\n",
       "      <td>GT3</td>\n",
       "      <td>T</td>\n",
       "      <td>1.0</td>\n",
       "      <td>1.0</td>\n",
       "      <td>at_home</td>\n",
       "      <td>other</td>\n",
       "      <td>...</td>\n",
       "      <td>3.0</td>\n",
       "      <td>3.0</td>\n",
       "      <td>1.0</td>\n",
       "      <td>1.0</td>\n",
       "      <td>3.0</td>\n",
       "      <td>4.0</td>\n",
       "      <td>11.0</td>\n",
       "      <td>10.0</td>\n",
       "      <td>B</td>\n",
       "      <td>B</td>\n",
       "    </tr>\n",
       "    <tr>\n",
       "      <th>4</th>\n",
       "      <td>GP</td>\n",
       "      <td>F</td>\n",
       "      <td>17.0</td>\n",
       "      <td>U</td>\n",
       "      <td>GT3</td>\n",
       "      <td>T</td>\n",
       "      <td>1.0</td>\n",
       "      <td>1.0</td>\n",
       "      <td>at_home</td>\n",
       "      <td>other</td>\n",
       "      <td>...</td>\n",
       "      <td>3.0</td>\n",
       "      <td>3.0</td>\n",
       "      <td>1.0</td>\n",
       "      <td>1.0</td>\n",
       "      <td>3.0</td>\n",
       "      <td>9.0</td>\n",
       "      <td>11.0</td>\n",
       "      <td>11.0</td>\n",
       "      <td>B</td>\n",
       "      <td>B</td>\n",
       "    </tr>\n",
       "    <tr>\n",
       "      <th>5</th>\n",
       "      <td>GP</td>\n",
       "      <td>F</td>\n",
       "      <td>17.0</td>\n",
       "      <td>U</td>\n",
       "      <td>GT3</td>\n",
       "      <td>T</td>\n",
       "      <td>1.0</td>\n",
       "      <td>1.0</td>\n",
       "      <td>health</td>\n",
       "      <td>other</td>\n",
       "      <td>...</td>\n",
       "      <td>3.0</td>\n",
       "      <td>3.0</td>\n",
       "      <td>1.0</td>\n",
       "      <td>1.0</td>\n",
       "      <td>3.0</td>\n",
       "      <td>4.0</td>\n",
       "      <td>8.0</td>\n",
       "      <td>11.0</td>\n",
       "      <td>B</td>\n",
       "      <td>B</td>\n",
       "    </tr>\n",
       "    <tr>\n",
       "      <th>6</th>\n",
       "      <td>GP</td>\n",
       "      <td>F</td>\n",
       "      <td>18.0</td>\n",
       "      <td>U</td>\n",
       "      <td>GT3</td>\n",
       "      <td>T</td>\n",
       "      <td>1.0</td>\n",
       "      <td>1.0</td>\n",
       "      <td>health</td>\n",
       "      <td>other</td>\n",
       "      <td>...</td>\n",
       "      <td>3.0</td>\n",
       "      <td>3.0</td>\n",
       "      <td>1.0</td>\n",
       "      <td>1.0</td>\n",
       "      <td>3.0</td>\n",
       "      <td>4.0</td>\n",
       "      <td>6.0</td>\n",
       "      <td>14.0</td>\n",
       "      <td>B</td>\n",
       "      <td>B</td>\n",
       "    </tr>\n",
       "    <tr>\n",
       "      <th>7</th>\n",
       "      <td>GP</td>\n",
       "      <td>F</td>\n",
       "      <td>17.0</td>\n",
       "      <td>U</td>\n",
       "      <td>GT3</td>\n",
       "      <td>T</td>\n",
       "      <td>1.0</td>\n",
       "      <td>1.0</td>\n",
       "      <td>health</td>\n",
       "      <td>other</td>\n",
       "      <td>...</td>\n",
       "      <td>3.0</td>\n",
       "      <td>3.0</td>\n",
       "      <td>1.0</td>\n",
       "      <td>1.0</td>\n",
       "      <td>3.0</td>\n",
       "      <td>4.0</td>\n",
       "      <td>5.0</td>\n",
       "      <td>14.0</td>\n",
       "      <td>B</td>\n",
       "      <td>B</td>\n",
       "    </tr>\n",
       "    <tr>\n",
       "      <th>8</th>\n",
       "      <td>GP</td>\n",
       "      <td>F</td>\n",
       "      <td>17.0</td>\n",
       "      <td>U</td>\n",
       "      <td>GT3</td>\n",
       "      <td>T</td>\n",
       "      <td>1.0</td>\n",
       "      <td>1.0</td>\n",
       "      <td>health</td>\n",
       "      <td>other</td>\n",
       "      <td>...</td>\n",
       "      <td>3.0</td>\n",
       "      <td>3.0</td>\n",
       "      <td>1.0</td>\n",
       "      <td>1.0</td>\n",
       "      <td>3.0</td>\n",
       "      <td>4.0</td>\n",
       "      <td>12.0</td>\n",
       "      <td>6.0</td>\n",
       "      <td>B</td>\n",
       "      <td>B</td>\n",
       "    </tr>\n",
       "    <tr>\n",
       "      <th>9</th>\n",
       "      <td>GP</td>\n",
       "      <td>F</td>\n",
       "      <td>17.0</td>\n",
       "      <td>U</td>\n",
       "      <td>GT3</td>\n",
       "      <td>T</td>\n",
       "      <td>1.0</td>\n",
       "      <td>1.0</td>\n",
       "      <td>health</td>\n",
       "      <td>other</td>\n",
       "      <td>...</td>\n",
       "      <td>3.0</td>\n",
       "      <td>3.0</td>\n",
       "      <td>1.0</td>\n",
       "      <td>1.0</td>\n",
       "      <td>3.0</td>\n",
       "      <td>4.0</td>\n",
       "      <td>10.0</td>\n",
       "      <td>8.0</td>\n",
       "      <td>B</td>\n",
       "      <td>B</td>\n",
       "    </tr>\n",
       "    <tr>\n",
       "      <th>10</th>\n",
       "      <td>GP</td>\n",
       "      <td>F</td>\n",
       "      <td>17.0</td>\n",
       "      <td>U</td>\n",
       "      <td>GT3</td>\n",
       "      <td>T</td>\n",
       "      <td>1.0</td>\n",
       "      <td>1.0</td>\n",
       "      <td>health</td>\n",
       "      <td>other</td>\n",
       "      <td>...</td>\n",
       "      <td>3.0</td>\n",
       "      <td>3.0</td>\n",
       "      <td>1.0</td>\n",
       "      <td>1.0</td>\n",
       "      <td>3.0</td>\n",
       "      <td>0.0</td>\n",
       "      <td>8.0</td>\n",
       "      <td>9.0</td>\n",
       "      <td>B</td>\n",
       "      <td>B</td>\n",
       "    </tr>\n",
       "  </tbody>\n",
       "</table>\n",
       "<p>10 rows × 34 columns</p>\n",
       "</div>"
      ],
      "text/plain": [
       "   school sex   age address famsize Pstatus  Medu  Fedu     Mjob   Fjob  ...  \\\n",
       "0      GP   F  17.0       U     GT3       T   1.0   1.0  at_home  other  ...   \n",
       "1      GP   F  17.0       U     GT3       T   1.0   1.0  at_home  other  ...   \n",
       "3      GP   F  17.0       U     GT3       T   1.0   1.0  at_home  other  ...   \n",
       "4      GP   F  17.0       U     GT3       T   1.0   1.0  at_home  other  ...   \n",
       "5      GP   F  17.0       U     GT3       T   1.0   1.0   health  other  ...   \n",
       "6      GP   F  18.0       U     GT3       T   1.0   1.0   health  other  ...   \n",
       "7      GP   F  17.0       U     GT3       T   1.0   1.0   health  other  ...   \n",
       "8      GP   F  17.0       U     GT3       T   1.0   1.0   health  other  ...   \n",
       "9      GP   F  17.0       U     GT3       T   1.0   1.0   health  other  ...   \n",
       "10     GP   F  17.0       U     GT3       T   1.0   1.0   health  other  ...   \n",
       "\n",
       "   freetime goout  Dalc  Walc  health absences    G1    G2 G3 G3_pred  \n",
       "0       3.0   3.0   1.0   1.0     3.0     23.0   9.0  13.0  B       B  \n",
       "1       3.0   3.0   1.0   1.0     3.0     20.0  14.0   6.0  B       B  \n",
       "3       3.0   3.0   1.0   1.0     3.0      4.0  11.0  10.0  B       B  \n",
       "4       3.0   3.0   1.0   1.0     3.0      9.0  11.0  11.0  B       B  \n",
       "5       3.0   3.0   1.0   1.0     3.0      4.0   8.0  11.0  B       B  \n",
       "6       3.0   3.0   1.0   1.0     3.0      4.0   6.0  14.0  B       B  \n",
       "7       3.0   3.0   1.0   1.0     3.0      4.0   5.0  14.0  B       B  \n",
       "8       3.0   3.0   1.0   1.0     3.0      4.0  12.0   6.0  B       B  \n",
       "9       3.0   3.0   1.0   1.0     3.0      4.0  10.0   8.0  B       B  \n",
       "10      3.0   3.0   1.0   1.0     3.0      0.0   8.0   9.0  B       B  \n",
       "\n",
       "[10 rows x 34 columns]"
      ]
     },
     "execution_count": 7,
     "metadata": {},
     "output_type": "execute_result"
    }
   ],
   "source": [
    "res"
   ]
  },
  {
   "cell_type": "code",
   "execution_count": 11,
   "metadata": {},
   "outputs": [
    {
     "data": {
      "text/html": [
       "<div>\n",
       "<style scoped>\n",
       "    .dataframe tbody tr th:only-of-type {\n",
       "        vertical-align: middle;\n",
       "    }\n",
       "\n",
       "    .dataframe tbody tr th {\n",
       "        vertical-align: top;\n",
       "    }\n",
       "\n",
       "    .dataframe thead th {\n",
       "        text-align: right;\n",
       "    }\n",
       "</style>\n",
       "<table border=\"1\" class=\"dataframe\">\n",
       "  <thead>\n",
       "    <tr style=\"text-align: right;\">\n",
       "      <th></th>\n",
       "      <th>school</th>\n",
       "      <th>sex</th>\n",
       "      <th>age</th>\n",
       "      <th>address</th>\n",
       "      <th>famsize</th>\n",
       "      <th>Pstatus</th>\n",
       "      <th>Medu</th>\n",
       "      <th>Fedu</th>\n",
       "      <th>Mjob</th>\n",
       "      <th>Fjob</th>\n",
       "      <th>...</th>\n",
       "      <th>freetime</th>\n",
       "      <th>goout</th>\n",
       "      <th>Dalc</th>\n",
       "      <th>Walc</th>\n",
       "      <th>health</th>\n",
       "      <th>absences</th>\n",
       "      <th>G1</th>\n",
       "      <th>G2</th>\n",
       "      <th>G3</th>\n",
       "      <th>G3_pred</th>\n",
       "    </tr>\n",
       "  </thead>\n",
       "  <tbody>\n",
       "    <tr>\n",
       "      <th>1</th>\n",
       "      <td>GP</td>\n",
       "      <td>F</td>\n",
       "      <td>17.0</td>\n",
       "      <td>U</td>\n",
       "      <td>GT3</td>\n",
       "      <td>T</td>\n",
       "      <td>1.0</td>\n",
       "      <td>1.0</td>\n",
       "      <td>at_home</td>\n",
       "      <td>other</td>\n",
       "      <td>...</td>\n",
       "      <td>3.0</td>\n",
       "      <td>3.0</td>\n",
       "      <td>1.0</td>\n",
       "      <td>1.0</td>\n",
       "      <td>3.0</td>\n",
       "      <td>4.0</td>\n",
       "      <td>5.0</td>\n",
       "      <td>5.0</td>\n",
       "      <td>D</td>\n",
       "      <td>NaN</td>\n",
       "    </tr>\n",
       "    <tr>\n",
       "      <th>0</th>\n",
       "      <td>GP</td>\n",
       "      <td>F</td>\n",
       "      <td>17.0</td>\n",
       "      <td>U</td>\n",
       "      <td>GT3</td>\n",
       "      <td>T</td>\n",
       "      <td>1.0</td>\n",
       "      <td>1.0</td>\n",
       "      <td>at_home</td>\n",
       "      <td>other</td>\n",
       "      <td>...</td>\n",
       "      <td>3.0</td>\n",
       "      <td>3.0</td>\n",
       "      <td>1.0</td>\n",
       "      <td>1.0</td>\n",
       "      <td>3.0</td>\n",
       "      <td>23.0</td>\n",
       "      <td>9.0</td>\n",
       "      <td>13.0</td>\n",
       "      <td>B</td>\n",
       "      <td>B</td>\n",
       "    </tr>\n",
       "  </tbody>\n",
       "</table>\n",
       "<p>2 rows × 34 columns</p>\n",
       "</div>"
      ],
      "text/plain": [
       "  school sex   age address famsize Pstatus  Medu  Fedu     Mjob   Fjob  ...  \\\n",
       "1     GP   F  17.0       U     GT3       T   1.0   1.0  at_home  other  ...   \n",
       "0     GP   F  17.0       U     GT3       T   1.0   1.0  at_home  other  ...   \n",
       "\n",
       "  freetime goout  Dalc  Walc  health absences   G1    G2 G3 G3_pred  \n",
       "1      3.0   3.0   1.0   1.0     3.0      4.0  5.0   5.0  D     NaN  \n",
       "0      3.0   3.0   1.0   1.0     3.0     23.0  9.0  13.0  B       B  \n",
       "\n",
       "[2 rows x 34 columns]"
      ]
     },
     "execution_count": 11,
     "metadata": {},
     "output_type": "execute_result"
    }
   ],
   "source": [
    "pd.DataFrame([query_instance, res.iloc[0]])"
   ]
  },
  {
   "cell_type": "code",
   "execution_count": 26,
   "metadata": {},
   "outputs": [
    {
     "name": "stdout",
     "output_type": "stream",
     "text": [
      "G1: 5 -> 11.0\n",
      "G2: 5 -> 10.0\n",
      "G3: D -> B\n"
     ]
    }
   ],
   "source": [
    "x, x_dash = query_instance.to_list(), res.iloc[2].to_list()[:-1]\n",
    "\n",
    "for i in range(len(x)):\n",
    "  if x[i] != x_dash[i]:\n",
    "    print(dataset.columns[i]+\":\", x[i], \"->\", x_dash[i])"
   ]
  },
  {
   "cell_type": "code",
   "execution_count": 17,
   "metadata": {},
   "outputs": [
    {
     "data": {
      "text/plain": [
       "['school',\n",
       " 'sex',\n",
       " 'age',\n",
       " 'address',\n",
       " 'famsize',\n",
       " 'Pstatus',\n",
       " 'Medu',\n",
       " 'Fedu',\n",
       " 'Mjob',\n",
       " 'Fjob',\n",
       " 'reason',\n",
       " 'guardian',\n",
       " 'traveltime',\n",
       " 'studytime',\n",
       " 'failures',\n",
       " 'schoolsup',\n",
       " 'famsup',\n",
       " 'paid',\n",
       " 'activities',\n",
       " 'nursery',\n",
       " 'higher',\n",
       " 'internet',\n",
       " 'romantic',\n",
       " 'famrel',\n",
       " 'freetime',\n",
       " 'goout',\n",
       " 'Dalc',\n",
       " 'Walc',\n",
       " 'health',\n",
       " 'absences',\n",
       " 'G1',\n",
       " 'G2',\n",
       " 'G3']"
      ]
     },
     "execution_count": 17,
     "metadata": {},
     "output_type": "execute_result"
    }
   ],
   "source": [
    "dataset.columns"
   ]
  },
  {
   "cell_type": "code",
   "execution_count": null,
   "metadata": {},
   "outputs": [],
   "source": []
  }
 ],
 "metadata": {
  "kernelspec": {
   "display_name": "Python 3",
   "language": "python",
   "name": "python3"
  },
  "language_info": {
   "codemirror_mode": {
    "name": "ipython",
    "version": 3
   },
   "file_extension": ".py",
   "mimetype": "text/x-python",
   "name": "python",
   "nbconvert_exporter": "python",
   "pygments_lexer": "ipython3",
   "version": "3.7.11"
  },
  "orig_nbformat": 4
 },
 "nbformat": 4,
 "nbformat_minor": 2
}
